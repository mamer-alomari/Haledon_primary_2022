{
 "cells": [
  {
   "cell_type": "code",
   "execution_count": 247,
   "metadata": {},
   "outputs": [],
   "source": [
    "import pandas as pd \n",
    "import numpy as np \n",
    "import xgboost as xgb\n",
    "from sklearn.model_selection import train_test_split\n",
    "from sklearn.preprocessing import LabelEncoder\n",
    "import matplotlib.pyplot as plt\n",
    "from sklearn.metrics import classification_report, confusion_matrix, roc_curve, auc,mean_squared_error"
   ]
  },
  {
   "cell_type": "code",
   "execution_count": 86,
   "metadata": {},
   "outputs": [],
   "source": [
    "path1=(r\"C:\\Users\\Mamer Jammer\\Desktop\\political campagins stuff\\haledon_voter_info.xlsx \")\n",
    "churn_data=pd.read_excel(path1)"
   ]
  },
  {
   "cell_type": "code",
   "execution_count": 87,
   "metadata": {},
   "outputs": [
    {
     "data": {
      "text/html": [
       "<div>\n",
       "<style scoped>\n",
       "    .dataframe tbody tr th:only-of-type {\n",
       "        vertical-align: middle;\n",
       "    }\n",
       "\n",
       "    .dataframe tbody tr th {\n",
       "        vertical-align: top;\n",
       "    }\n",
       "\n",
       "    .dataframe thead th {\n",
       "        text-align: right;\n",
       "    }\n",
       "</style>\n",
       "<table border=\"1\" class=\"dataframe\">\n",
       "  <thead>\n",
       "    <tr style=\"text-align: right;\">\n",
       "      <th></th>\n",
       "      <th>Unnamed: 0</th>\n",
       "      <th>Precinct</th>\n",
       "      <th>Voters_FirstName</th>\n",
       "      <th>Voters_MiddleName</th>\n",
       "      <th>Voters_LastName</th>\n",
       "      <th>Residence_Addresses_AddressLine</th>\n",
       "      <th>Residence_Families_HHCount</th>\n",
       "      <th>Residence_HHParties_Description</th>\n",
       "      <th>Voters_BirthDate</th>\n",
       "      <th>Voters_OfficialRegDate</th>\n",
       "      <th>...</th>\n",
       "      <th>PRI_BLT_2012-06-05</th>\n",
       "      <th>PRI_BLT_2013-06-04</th>\n",
       "      <th>PRI_BLT_2014-06-03</th>\n",
       "      <th>PRI_BLT_2015-06-02</th>\n",
       "      <th>PRI_BLT_2017-06-06</th>\n",
       "      <th>PRI_BLT_2018-06-05</th>\n",
       "      <th>PRI_BLT_2019-06-04</th>\n",
       "      <th>PRI_BLT_2016-06-07</th>\n",
       "      <th>Voters_Gender</th>\n",
       "      <th>Parties_Description</th>\n",
       "    </tr>\n",
       "  </thead>\n",
       "  <tbody>\n",
       "    <tr>\n",
       "      <th>0</th>\n",
       "      <td>NaN</td>\n",
       "      <td>HALEDON BORO 2</td>\n",
       "      <td>Joseph</td>\n",
       "      <td>E</td>\n",
       "      <td>Parkin</td>\n",
       "      <td>1 Richard Scott Ct</td>\n",
       "      <td>1</td>\n",
       "      <td>Democratic</td>\n",
       "      <td>1924-04-17</td>\n",
       "      <td>1952-09-23</td>\n",
       "      <td>...</td>\n",
       "      <td>Democratic</td>\n",
       "      <td>Did Not Vote</td>\n",
       "      <td>Did Not Vote</td>\n",
       "      <td>Did Not Vote</td>\n",
       "      <td>Did Not Vote</td>\n",
       "      <td>Did Not Vote</td>\n",
       "      <td>Did Not Vote</td>\n",
       "      <td>Democratic</td>\n",
       "      <td>1.0</td>\n",
       "      <td>Democratic</td>\n",
       "    </tr>\n",
       "    <tr>\n",
       "      <th>1</th>\n",
       "      <td>NaN</td>\n",
       "      <td>HALEDON BORO 6</td>\n",
       "      <td>Philip</td>\n",
       "      <td>J</td>\n",
       "      <td>Marshall</td>\n",
       "      <td>235B Granite Ave</td>\n",
       "      <td>1</td>\n",
       "      <td>Democratic</td>\n",
       "      <td>1926-04-05</td>\n",
       "      <td>1963-03-04</td>\n",
       "      <td>...</td>\n",
       "      <td>Did Not Vote</td>\n",
       "      <td>Did Not Vote</td>\n",
       "      <td>Did Not Vote</td>\n",
       "      <td>Democratic</td>\n",
       "      <td>Did Not Vote</td>\n",
       "      <td>Did Not Vote</td>\n",
       "      <td>Did Not Vote</td>\n",
       "      <td>Democratic</td>\n",
       "      <td>1.0</td>\n",
       "      <td>Democratic</td>\n",
       "    </tr>\n",
       "    <tr>\n",
       "      <th>2</th>\n",
       "      <td>NaN</td>\n",
       "      <td>HALEDON BORO 3</td>\n",
       "      <td>Salvatore</td>\n",
       "      <td>NaN</td>\n",
       "      <td>Esposito</td>\n",
       "      <td>115 Pompton Rd</td>\n",
       "      <td>3</td>\n",
       "      <td>Democratic &amp; Republican</td>\n",
       "      <td>1927-11-09</td>\n",
       "      <td>1972-08-18</td>\n",
       "      <td>...</td>\n",
       "      <td>Did Not Vote</td>\n",
       "      <td>Did Not Vote</td>\n",
       "      <td>Did Not Vote</td>\n",
       "      <td>Did Not Vote</td>\n",
       "      <td>Did Not Vote</td>\n",
       "      <td>Did Not Vote</td>\n",
       "      <td>Did Not Vote</td>\n",
       "      <td>Democratic</td>\n",
       "      <td>1.0</td>\n",
       "      <td>Democratic</td>\n",
       "    </tr>\n",
       "    <tr>\n",
       "      <th>3</th>\n",
       "      <td>NaN</td>\n",
       "      <td>HALEDON BORO 5</td>\n",
       "      <td>Maria</td>\n",
       "      <td>NaN</td>\n",
       "      <td>Barahona</td>\n",
       "      <td>1103 Gatherings Dr Apt 110</td>\n",
       "      <td>2</td>\n",
       "      <td>Democratic</td>\n",
       "      <td>1927-09-25</td>\n",
       "      <td>2008-03-25</td>\n",
       "      <td>...</td>\n",
       "      <td>Did Not Vote</td>\n",
       "      <td>Did Not Vote</td>\n",
       "      <td>Did Not Vote</td>\n",
       "      <td>Did Not Vote</td>\n",
       "      <td>Did Not Vote</td>\n",
       "      <td>Did Not Vote</td>\n",
       "      <td>Did Not Vote</td>\n",
       "      <td>Democratic</td>\n",
       "      <td>2.0</td>\n",
       "      <td>Democratic</td>\n",
       "    </tr>\n",
       "    <tr>\n",
       "      <th>4</th>\n",
       "      <td>NaN</td>\n",
       "      <td>HALEDON BORO 3</td>\n",
       "      <td>Inez</td>\n",
       "      <td>1</td>\n",
       "      <td>Molano</td>\n",
       "      <td>655 Belmont Ave</td>\n",
       "      <td>1</td>\n",
       "      <td>Democratic</td>\n",
       "      <td>1929-05-28</td>\n",
       "      <td>1995-10-10</td>\n",
       "      <td>...</td>\n",
       "      <td>Did Not Vote</td>\n",
       "      <td>Did Not Vote</td>\n",
       "      <td>Did Not Vote</td>\n",
       "      <td>Did Not Vote</td>\n",
       "      <td>Did Not Vote</td>\n",
       "      <td>Did Not Vote</td>\n",
       "      <td>Did Not Vote</td>\n",
       "      <td>Democratic</td>\n",
       "      <td>2.0</td>\n",
       "      <td>Democratic</td>\n",
       "    </tr>\n",
       "    <tr>\n",
       "      <th>...</th>\n",
       "      <td>...</td>\n",
       "      <td>...</td>\n",
       "      <td>...</td>\n",
       "      <td>...</td>\n",
       "      <td>...</td>\n",
       "      <td>...</td>\n",
       "      <td>...</td>\n",
       "      <td>...</td>\n",
       "      <td>...</td>\n",
       "      <td>...</td>\n",
       "      <td>...</td>\n",
       "      <td>...</td>\n",
       "      <td>...</td>\n",
       "      <td>...</td>\n",
       "      <td>...</td>\n",
       "      <td>...</td>\n",
       "      <td>...</td>\n",
       "      <td>...</td>\n",
       "      <td>...</td>\n",
       "      <td>...</td>\n",
       "      <td>...</td>\n",
       "    </tr>\n",
       "    <tr>\n",
       "      <th>4405</th>\n",
       "      <td>NaN</td>\n",
       "      <td>HALEDON BORO 4</td>\n",
       "      <td>Jenissa</td>\n",
       "      <td>NaN</td>\n",
       "      <td>Perez-Lebron</td>\n",
       "      <td>317 W Clinton St</td>\n",
       "      <td>2</td>\n",
       "      <td>Democratic &amp; Independent</td>\n",
       "      <td>1981-11-06</td>\n",
       "      <td>1999-11-30</td>\n",
       "      <td>...</td>\n",
       "      <td>Did Not Vote</td>\n",
       "      <td>Did Not Vote</td>\n",
       "      <td>Did Not Vote</td>\n",
       "      <td>Did Not Vote</td>\n",
       "      <td>Did Not Vote</td>\n",
       "      <td>Did Not Vote</td>\n",
       "      <td>Did Not Vote</td>\n",
       "      <td>Republican</td>\n",
       "      <td>2.0</td>\n",
       "      <td>Non-Partisan</td>\n",
       "    </tr>\n",
       "    <tr>\n",
       "      <th>4406</th>\n",
       "      <td>NaN</td>\n",
       "      <td>HALEDON BORO 1</td>\n",
       "      <td>Lauren</td>\n",
       "      <td>1</td>\n",
       "      <td>Lyttle</td>\n",
       "      <td>330 W Clinton St</td>\n",
       "      <td>1</td>\n",
       "      <td>Independent</td>\n",
       "      <td>1989-05-17</td>\n",
       "      <td>2014-10-14</td>\n",
       "      <td>...</td>\n",
       "      <td>Did Not Vote</td>\n",
       "      <td>Did Not Vote</td>\n",
       "      <td>Did Not Vote</td>\n",
       "      <td>Did Not Vote</td>\n",
       "      <td>Did Not Vote</td>\n",
       "      <td>Did Not Vote</td>\n",
       "      <td>Did Not Vote</td>\n",
       "      <td>Republican</td>\n",
       "      <td>2.0</td>\n",
       "      <td>Non-Partisan</td>\n",
       "    </tr>\n",
       "    <tr>\n",
       "      <th>4407</th>\n",
       "      <td>NaN</td>\n",
       "      <td>HALEDON BORO 3</td>\n",
       "      <td>Kelsey</td>\n",
       "      <td>L</td>\n",
       "      <td>Pengitore</td>\n",
       "      <td>71 Sherwood Ave</td>\n",
       "      <td>4</td>\n",
       "      <td>Republican &amp; Independent</td>\n",
       "      <td>1991-01-05</td>\n",
       "      <td>2009-01-09</td>\n",
       "      <td>...</td>\n",
       "      <td>Did Not Vote</td>\n",
       "      <td>Did Not Vote</td>\n",
       "      <td>Did Not Vote</td>\n",
       "      <td>Did Not Vote</td>\n",
       "      <td>Did Not Vote</td>\n",
       "      <td>Did Not Vote</td>\n",
       "      <td>Did Not Vote</td>\n",
       "      <td>Republican</td>\n",
       "      <td>2.0</td>\n",
       "      <td>Non-Partisan</td>\n",
       "    </tr>\n",
       "    <tr>\n",
       "      <th>4408</th>\n",
       "      <td>NaN</td>\n",
       "      <td>HALEDON BORO 1</td>\n",
       "      <td>Arnold</td>\n",
       "      <td>NaN</td>\n",
       "      <td>Avdyli</td>\n",
       "      <td>77 N 14th St Apt 1</td>\n",
       "      <td>2</td>\n",
       "      <td>Democratic &amp; Independent</td>\n",
       "      <td>1995-10-11</td>\n",
       "      <td>2014-03-18</td>\n",
       "      <td>...</td>\n",
       "      <td>Did Not Vote</td>\n",
       "      <td>Did Not Vote</td>\n",
       "      <td>Did Not Vote</td>\n",
       "      <td>Did Not Vote</td>\n",
       "      <td>Did Not Vote</td>\n",
       "      <td>Did Not Vote</td>\n",
       "      <td>Did Not Vote</td>\n",
       "      <td>Republican</td>\n",
       "      <td>1.0</td>\n",
       "      <td>Non-Partisan</td>\n",
       "    </tr>\n",
       "    <tr>\n",
       "      <th>4409</th>\n",
       "      <td>NaN</td>\n",
       "      <td>HALEDON BORO 6</td>\n",
       "      <td>Barira</td>\n",
       "      <td>NaN</td>\n",
       "      <td>Khanom</td>\n",
       "      <td>21 Central Ave</td>\n",
       "      <td>1</td>\n",
       "      <td>Independent</td>\n",
       "      <td>1995-07-25</td>\n",
       "      <td>2016-11-08</td>\n",
       "      <td>...</td>\n",
       "      <td>Did Not Vote</td>\n",
       "      <td>Did Not Vote</td>\n",
       "      <td>Did Not Vote</td>\n",
       "      <td>Did Not Vote</td>\n",
       "      <td>Did Not Vote</td>\n",
       "      <td>Did Not Vote</td>\n",
       "      <td>Did Not Vote</td>\n",
       "      <td>Republican</td>\n",
       "      <td>2.0</td>\n",
       "      <td>Non-Partisan</td>\n",
       "    </tr>\n",
       "  </tbody>\n",
       "</table>\n",
       "<p>4410 rows × 26 columns</p>\n",
       "</div>"
      ],
      "text/plain": [
       "      Unnamed: 0        Precinct Voters_FirstName Voters_MiddleName  \\\n",
       "0            NaN  HALEDON BORO 2           Joseph                 E   \n",
       "1            NaN  HALEDON BORO 6           Philip                 J   \n",
       "2            NaN  HALEDON BORO 3        Salvatore               NaN   \n",
       "3            NaN  HALEDON BORO 5            Maria               NaN   \n",
       "4            NaN  HALEDON BORO 3             Inez                 1   \n",
       "...          ...             ...              ...               ...   \n",
       "4405         NaN  HALEDON BORO 4          Jenissa               NaN   \n",
       "4406         NaN  HALEDON BORO 1           Lauren                 1   \n",
       "4407         NaN  HALEDON BORO 3           Kelsey                 L   \n",
       "4408         NaN  HALEDON BORO 1           Arnold               NaN   \n",
       "4409         NaN  HALEDON BORO 6           Barira               NaN   \n",
       "\n",
       "     Voters_LastName Residence_Addresses_AddressLine  \\\n",
       "0             Parkin              1 Richard Scott Ct   \n",
       "1           Marshall                235B Granite Ave   \n",
       "2           Esposito                  115 Pompton Rd   \n",
       "3           Barahona      1103 Gatherings Dr Apt 110   \n",
       "4             Molano                 655 Belmont Ave   \n",
       "...              ...                             ...   \n",
       "4405    Perez-Lebron                317 W Clinton St   \n",
       "4406          Lyttle                330 W Clinton St   \n",
       "4407       Pengitore                 71 Sherwood Ave   \n",
       "4408          Avdyli              77 N 14th St Apt 1   \n",
       "4409          Khanom                  21 Central Ave   \n",
       "\n",
       "      Residence_Families_HHCount Residence_HHParties_Description  \\\n",
       "0                              1                      Democratic   \n",
       "1                              1                      Democratic   \n",
       "2                              3         Democratic & Republican   \n",
       "3                              2                      Democratic   \n",
       "4                              1                      Democratic   \n",
       "...                          ...                             ...   \n",
       "4405                           2        Democratic & Independent   \n",
       "4406                           1                     Independent   \n",
       "4407                           4        Republican & Independent   \n",
       "4408                           2        Democratic & Independent   \n",
       "4409                           1                     Independent   \n",
       "\n",
       "     Voters_BirthDate Voters_OfficialRegDate  ... PRI_BLT_2012-06-05  \\\n",
       "0          1924-04-17             1952-09-23  ...         Democratic   \n",
       "1          1926-04-05             1963-03-04  ...       Did Not Vote   \n",
       "2          1927-11-09             1972-08-18  ...       Did Not Vote   \n",
       "3          1927-09-25             2008-03-25  ...       Did Not Vote   \n",
       "4          1929-05-28             1995-10-10  ...       Did Not Vote   \n",
       "...               ...                    ...  ...                ...   \n",
       "4405       1981-11-06             1999-11-30  ...       Did Not Vote   \n",
       "4406       1989-05-17             2014-10-14  ...       Did Not Vote   \n",
       "4407       1991-01-05             2009-01-09  ...       Did Not Vote   \n",
       "4408       1995-10-11             2014-03-18  ...       Did Not Vote   \n",
       "4409       1995-07-25             2016-11-08  ...       Did Not Vote   \n",
       "\n",
       "      PRI_BLT_2013-06-04 PRI_BLT_2014-06-03 PRI_BLT_2015-06-02  \\\n",
       "0           Did Not Vote       Did Not Vote       Did Not Vote   \n",
       "1           Did Not Vote       Did Not Vote         Democratic   \n",
       "2           Did Not Vote       Did Not Vote       Did Not Vote   \n",
       "3           Did Not Vote       Did Not Vote       Did Not Vote   \n",
       "4           Did Not Vote       Did Not Vote       Did Not Vote   \n",
       "...                  ...                ...                ...   \n",
       "4405        Did Not Vote       Did Not Vote       Did Not Vote   \n",
       "4406        Did Not Vote       Did Not Vote       Did Not Vote   \n",
       "4407        Did Not Vote       Did Not Vote       Did Not Vote   \n",
       "4408        Did Not Vote       Did Not Vote       Did Not Vote   \n",
       "4409        Did Not Vote       Did Not Vote       Did Not Vote   \n",
       "\n",
       "     PRI_BLT_2017-06-06 PRI_BLT_2018-06-05 PRI_BLT_2019-06-04  \\\n",
       "0          Did Not Vote       Did Not Vote       Did Not Vote   \n",
       "1          Did Not Vote       Did Not Vote       Did Not Vote   \n",
       "2          Did Not Vote       Did Not Vote       Did Not Vote   \n",
       "3          Did Not Vote       Did Not Vote       Did Not Vote   \n",
       "4          Did Not Vote       Did Not Vote       Did Not Vote   \n",
       "...                 ...                ...                ...   \n",
       "4405       Did Not Vote       Did Not Vote       Did Not Vote   \n",
       "4406       Did Not Vote       Did Not Vote       Did Not Vote   \n",
       "4407       Did Not Vote       Did Not Vote       Did Not Vote   \n",
       "4408       Did Not Vote       Did Not Vote       Did Not Vote   \n",
       "4409       Did Not Vote       Did Not Vote       Did Not Vote   \n",
       "\n",
       "     PRI_BLT_2016-06-07 Voters_Gender Parties_Description  \n",
       "0            Democratic           1.0          Democratic  \n",
       "1            Democratic           1.0          Democratic  \n",
       "2            Democratic           1.0          Democratic  \n",
       "3            Democratic           2.0          Democratic  \n",
       "4            Democratic           2.0          Democratic  \n",
       "...                 ...           ...                 ...  \n",
       "4405         Republican           2.0        Non-Partisan  \n",
       "4406         Republican           2.0        Non-Partisan  \n",
       "4407         Republican           2.0        Non-Partisan  \n",
       "4408         Republican           1.0        Non-Partisan  \n",
       "4409         Republican           2.0        Non-Partisan  \n",
       "\n",
       "[4410 rows x 26 columns]"
      ]
     },
     "execution_count": 87,
     "metadata": {},
     "output_type": "execute_result"
    }
   ],
   "source": [
    "churn_data"
   ]
  },
  {
   "cell_type": "code",
   "execution_count": 88,
   "metadata": {},
   "outputs": [
    {
     "data": {
      "text/plain": [
       "Index(['Precinct', 'Voters_FirstName', 'Voters_MiddleName', 'Voters_LastName',\n",
       "       'Voters_Age', 'Broad Ethnic Groupings', 'PRI_BLT_2012-06-05',\n",
       "       'PRI_BLT_2013-06-04', 'PRI_BLT_2014-06-03', 'PRI_BLT_2015-06-02',\n",
       "       'PRI_BLT_2017-06-06', 'PRI_BLT_2018-06-05', 'PRI_BLT_2019-06-04',\n",
       "       'PRI_BLT_2016-06-07', 'Voters_Gender', 'Parties_Description'],\n",
       "      dtype='object')"
      ]
     },
     "execution_count": 88,
     "metadata": {},
     "output_type": "execute_result"
    }
   ],
   "source": [
    "voterlist=churn_Data\n",
    "voterlist.columns"
   ]
  },
  {
   "cell_type": "code",
   "execution_count": 91,
   "metadata": {},
   "outputs": [],
   "source": [
    "voterlist.drop(['Precinct', 'Voters_FirstName', 'Voters_MiddleName', 'Voters_LastName'],axis=1,inplace=True)"
   ]
  },
  {
   "cell_type": "code",
   "execution_count": 111,
   "metadata": {},
   "outputs": [],
   "source": [
    "voterlist.drop('Broad Ethnic Groupings',axis=1,inplace=True)"
   ]
  },
  {
   "cell_type": "code",
   "execution_count": 109,
   "metadata": {},
   "outputs": [],
   "source": [
    "voterlist.replace({'Democrat':1,'Republican':2,'Non-Partisan':0,\"Did Not Vote\":0,'Democratic':1},inplace=True)"
   ]
  },
  {
   "cell_type": "code",
   "execution_count": 136,
   "metadata": {},
   "outputs": [],
   "source": [
    "voterlist.Voters_Gender=voterlist.Voters_Gender.astype(str)\n",
    "voterlist.Voters_Gender=voterlist.Voters_Gender.replace({'2.0':2,'1.0':1})"
   ]
  },
  {
   "cell_type": "code",
   "execution_count": 140,
   "metadata": {},
   "outputs": [],
   "source": [
    "voterlist=voterlist.dropna()"
   ]
  },
  {
   "cell_type": "code",
   "execution_count": 141,
   "metadata": {},
   "outputs": [],
   "source": [
    "# Create arrays for the features and the target: X, y\n",
    "X =voterlist.drop(\"PRI_BLT_2016-06-07\",axis=1).values\n",
    "y=voterlist[\"PRI_BLT_2016-06-07\"].values\n"
   ]
  },
  {
   "cell_type": "code",
   "execution_count": null,
   "metadata": {},
   "outputs": [],
   "source": []
  },
  {
   "cell_type": "code",
   "execution_count": 165,
   "metadata": {},
   "outputs": [
    {
     "name": "stdout",
     "output_type": "stream",
     "text": [
      "[13:00:04] WARNING: ..\\src\\learner.cc:1061: Starting in XGBoost 1.3.0, the default evaluation metric used with the objective 'multi:softprob' was changed from 'merror' to 'mlogloss'. Explicitly set eval_metric if you'd like to restore the old behavior.\n",
      "Learning rate:  0.05\n",
      "Accuracy score (training): 0.844\n",
      "Accuracy score (validation): 0.828\n",
      "\n",
      "[13:00:04] WARNING: ..\\src\\learner.cc:1061: Starting in XGBoost 1.3.0, the default evaluation metric used with the objective 'multi:softprob' was changed from 'merror' to 'mlogloss'. Explicitly set eval_metric if you'd like to restore the old behavior.\n",
      "Learning rate:  0.1\n",
      "Accuracy score (training): 0.844\n",
      "Accuracy score (validation): 0.834\n",
      "\n",
      "[13:00:04] WARNING: ..\\src\\learner.cc:1061: Starting in XGBoost 1.3.0, the default evaluation metric used with the objective 'multi:softprob' was changed from 'merror' to 'mlogloss'. Explicitly set eval_metric if you'd like to restore the old behavior.\n",
      "Learning rate:  0.25\n",
      "Accuracy score (training): 0.848\n",
      "Accuracy score (validation): 0.836\n",
      "\n",
      "[13:00:04] WARNING: ..\\src\\learner.cc:1061: Starting in XGBoost 1.3.0, the default evaluation metric used with the objective 'multi:softprob' was changed from 'merror' to 'mlogloss'. Explicitly set eval_metric if you'd like to restore the old behavior.\n",
      "Learning rate:  0.5\n",
      "Accuracy score (training): 0.852\n",
      "Accuracy score (validation): 0.835\n",
      "\n",
      "[13:00:04] WARNING: ..\\src\\learner.cc:1061: Starting in XGBoost 1.3.0, the default evaluation metric used with the objective 'multi:softprob' was changed from 'merror' to 'mlogloss'. Explicitly set eval_metric if you'd like to restore the old behavior.\n",
      "Learning rate:  0.75\n",
      "Accuracy score (training): 0.854\n",
      "Accuracy score (validation): 0.836\n",
      "\n",
      "[13:00:04] WARNING: ..\\src\\learner.cc:1061: Starting in XGBoost 1.3.0, the default evaluation metric used with the objective 'multi:softprob' was changed from 'merror' to 'mlogloss'. Explicitly set eval_metric if you'd like to restore the old behavior.\n",
      "Learning rate:  1\n",
      "Accuracy score (training): 0.859\n",
      "Accuracy score (validation): 0.837\n",
      "\n"
     ]
    }
   ],
   "source": [
    "\n",
    "# Create the training and test sets\n",
    "X_train,X_test,y_train,y_test= train_test_split(X, y, test_size=0.2, random_state=123)\n",
    "\n",
    "learning_rates = [0.05, 0.1, 0.25, 0.5, 0.75, 1]\n",
    "# Instantiate the XGBClassifier: xg_cl\n",
    "for learning_rate in learning_rates:\n",
    "    xg_cl = xgb.XGBClassifier(objective='reg:logistic', n_estimators=24,learning_rate = learning_rate,max_depth=3, seed=123)\n",
    "\n",
    "# Fit the classifier to the training set\n",
    "    xg_cl.fit(X_train,y_train)\n",
    "\n",
    "# Predict the labels of the test set: preds\n",
    "    preds = xg_cl.predict(X_test)\n",
    "    print(\"Learning rate: \", learning_rate)\n",
    "    print(\"Accuracy score (training): {0:.3f}\".format(xg_cl.score(X_train, y_train)))\n",
    "    print(\"Accuracy score (validation): {0:.3f}\".format(xg_cl.score(X_test, y_test)))\n",
    "    print()\n",
    "\n"
   ]
  },
  {
   "cell_type": "code",
   "execution_count": 250,
   "metadata": {},
   "outputs": [
    {
     "name": "stdout",
     "output_type": "stream",
     "text": [
      "accuracy: 0.837020\n",
      "RMSE: 0.420654\n"
     ]
    }
   ],
   "source": [
    "# just a test , keeping these lines alive for now \n",
    "preds = xg_cl.predict(X_test)\n",
    "accuracy = float(np.sum(preds==y_test))/y_test.shape[0]\n",
    "print(\"accuracy: %f\" % (accuracy))\n",
    "rmse = np.sqrt(mean_squared_error(y_test, preds))\n",
    "print(\"RMSE: %f\" % (rmse))"
   ]
  },
  {
   "cell_type": "code",
   "execution_count": 249,
   "metadata": {},
   "outputs": [
    {
     "name": "stdout",
     "output_type": "stream",
     "text": [
      "accuracy: 0.8288707799767171\n",
      "RMSE: 0.438274\n"
     ]
    }
   ],
   "source": [
    "# Import the necessary modules\n",
    "from sklearn.model_selection import train_test_split\n",
    "from sklearn.tree import DecisionTreeClassifier\n",
    "\n",
    "# Create the training and test sets\n",
    "X_train, X_test, y_train, y_test = train_test_split(X,y, test_size=0.2, random_state=123)\n",
    "\n",
    "# Instantiate the classifier: dt_clf_4\n",
    "dt_clf_4 = DecisionTreeClassifier(max_depth=4)\n",
    "\n",
    "# Fit the classifier to the training set\n",
    "dt_clf_4.fit(X_train,y_train)\n",
    "\n",
    "# Predict the labels of the test set: y_pred_4\n",
    "y_pred_4 = dt_clf_4.predict(X_test)\n",
    "\n",
    "# Compute the accuracy of the predictions: accuracy\n",
    "accuracy = float(np.sum(y_pred_4==y_test))/y_test.shape[0]\n",
    "print(\"accuracy:\", accuracy)\n",
    "rmse = np.sqrt(mean_squared_error(y_test, y_pred_4))\n",
    "print(\"RMSE: %f\" % (rmse))"
   ]
  },
  {
   "cell_type": "code",
   "execution_count": 180,
   "metadata": {},
   "outputs": [
    {
     "name": "stdout",
     "output_type": "stream",
     "text": [
      "              precision    recall  f1-score   support\n",
      "\n",
      "           0       0.86      0.96      0.90       679\n",
      "           1       0.69      0.40      0.50       174\n",
      "           2       0.50      0.17      0.25         6\n",
      "\n",
      "    accuracy                           0.84       859\n",
      "   macro avg       0.68      0.51      0.55       859\n",
      "weighted avg       0.82      0.84      0.82       859\n",
      "\n"
     ]
    }
   ],
   "source": [
    "print (classification_report(y_test,preds))"
   ]
  },
  {
   "cell_type": "code",
   "execution_count": 181,
   "metadata": {},
   "outputs": [
    {
     "name": "stdout",
     "output_type": "stream",
     "text": [
      "[[649  30   0]\n",
      " [104  69   1]\n",
      " [  4   1   1]]\n"
     ]
    }
   ],
   "source": [
    "print (confusion_matrix(y_test,preds))"
   ]
  },
  {
   "cell_type": "code",
   "execution_count": 203,
   "metadata": {},
   "outputs": [
    {
     "name": "stderr",
     "output_type": "stream",
     "text": [
      "No handles with labels found to put in legend.\n"
     ]
    },
    {
     "data": {
      "text/plain": [
       "<matplotlib.legend.Legend at 0x212483c4d90>"
      ]
     },
     "execution_count": 203,
     "metadata": {},
     "output_type": "execute_result"
    },
    {
     "data": {
      "image/png": "[encoded data removed]",
      "text/plain": [
       "<Figure size 432x288 with 1 Axes>"
      ]
     },
     "metadata": {
      "needs_background": "light"
     },
     "output_type": "display_data"
    }
   ],
   "source": [
    "plt.hist(preds,bins=3,histtype='step')\n",
    "plt.title('prediction for next election')\n",
    "plt.ylabel('nubmer of votes')\n",
    "plt.xlabel('party Democrat 1 , Republican 2')\n"
   ]
  },
  {
   "cell_type": "code",
   "execution_count": 218,
   "metadata": {},
   "outputs": [
    {
     "data": {
      "text/html": [
       "<div>\n",
       "<style scoped>\n",
       "    .dataframe tbody tr th:only-of-type {\n",
       "        vertical-align: middle;\n",
       "    }\n",
       "\n",
       "    .dataframe tbody tr th {\n",
       "        vertical-align: top;\n",
       "    }\n",
       "\n",
       "    .dataframe thead th {\n",
       "        text-align: right;\n",
       "    }\n",
       "</style>\n",
       "<table border=\"1\" class=\"dataframe\">\n",
       "  <thead>\n",
       "    <tr style=\"text-align: right;\">\n",
       "      <th></th>\n",
       "      <th>XGBoost</th>\n",
       "    </tr>\n",
       "  </thead>\n",
       "  <tbody>\n",
       "    <tr>\n",
       "      <th>0</th>\n",
       "      <td>0</td>\n",
       "    </tr>\n",
       "    <tr>\n",
       "      <th>1</th>\n",
       "      <td>0</td>\n",
       "    </tr>\n",
       "    <tr>\n",
       "      <th>2</th>\n",
       "      <td>0</td>\n",
       "    </tr>\n",
       "    <tr>\n",
       "      <th>3</th>\n",
       "      <td>0</td>\n",
       "    </tr>\n",
       "    <tr>\n",
       "      <th>4</th>\n",
       "      <td>0</td>\n",
       "    </tr>\n",
       "    <tr>\n",
       "      <th>...</th>\n",
       "      <td>...</td>\n",
       "    </tr>\n",
       "    <tr>\n",
       "      <th>854</th>\n",
       "      <td>0</td>\n",
       "    </tr>\n",
       "    <tr>\n",
       "      <th>855</th>\n",
       "      <td>0</td>\n",
       "    </tr>\n",
       "    <tr>\n",
       "      <th>856</th>\n",
       "      <td>0</td>\n",
       "    </tr>\n",
       "    <tr>\n",
       "      <th>857</th>\n",
       "      <td>0</td>\n",
       "    </tr>\n",
       "    <tr>\n",
       "      <th>858</th>\n",
       "      <td>0</td>\n",
       "    </tr>\n",
       "  </tbody>\n",
       "</table>\n",
       "<p>859 rows × 1 columns</p>\n",
       "</div>"
      ],
      "text/plain": [
       "     XGBoost\n",
       "0          0\n",
       "1          0\n",
       "2          0\n",
       "3          0\n",
       "4          0\n",
       "..       ...\n",
       "854        0\n",
       "855        0\n",
       "856        0\n",
       "857        0\n",
       "858        0\n",
       "\n",
       "[859 rows x 1 columns]"
      ]
     },
     "execution_count": 218,
     "metadata": {},
     "output_type": "execute_result"
    }
   ],
   "source": [
    "predictions=pd.DataFrame(preds)\n",
    "predictions.rename(columns={0:'XGBoost'})"
   ]
  },
  {
   "cell_type": "code",
   "execution_count": 225,
   "metadata": {},
   "outputs": [],
   "source": [
    "predictions['decisiontree']=y_pred_4"
   ]
  },
  {
   "cell_type": "code",
   "execution_count": 210,
   "metadata": {},
   "outputs": [
    {
     "data": {
      "text/plain": [
       "Text(0.5, 0, 'party Democrat 1 , Republican 2')"
      ]
     },
     "execution_count": 210,
     "metadata": {},
     "output_type": "execute_result"
    },
    {
     "data": {
      "image/png": "[encoded data removed]",
      "text/plain": [
       "<Figure size 432x288 with 1 Axes>"
      ]
     },
     "metadata": {
      "needs_background": "light"
     },
     "output_type": "display_data"
    }
   ],
   "source": [
    "plt.hist(y_pred_4,bins=3,histtype='step')\n",
    "plt.title('prediction for next election')\n",
    "plt.ylabel('nubmer of votes')\n",
    "plt.xlabel('party Democrat 1 , Republican 2')"
   ]
  },
  {
   "cell_type": "code",
   "execution_count": 226,
   "metadata": {},
   "outputs": [
    {
     "data": {
      "text/plain": [
       "0    771\n",
       "1     87\n",
       "2      1\n",
       "Name: decisiontree, dtype: int64"
      ]
     },
     "execution_count": 226,
     "metadata": {},
     "output_type": "execute_result"
    }
   ],
   "source": [
    "predictions.decisiontree.value_counts()"
   ]
  },
  {
   "cell_type": "code",
   "execution_count": 251,
   "metadata": {},
   "outputs": [],
   "source": [
    "from sklearn.ensemble import RandomForestClassifier as rf\n",
    "from sklearn.ensemble import BaggingClassifier as bc "
   ]
  },
  {
   "cell_type": "code",
   "execution_count": 257,
   "metadata": {},
   "outputs": [
    {
     "name": "stdout",
     "output_type": "stream",
     "text": [
      "accuracy: 0.8311990686845169\n",
      "RMSE: 0.435609\n"
     ]
    }
   ],
   "source": [
    "random=rf(n_estimators=100,max_depth=3,bootstrap=True)\n",
    "random.fit(X_train,y_train)\n",
    "rf_pred=random.predict(X_test)\n",
    "accuracy = float(np.sum(rf_pred==y_test))/y_test.shape[0]\n",
    "print(\"accuracy:\", accuracy)\n",
    "rmse = np.sqrt(mean_squared_error(y_test, rf_pred))\n",
    "print(\"RMSE: %f\" % (rmse))"
   ]
  },
  {
   "cell_type": "code",
   "execution_count": 237,
   "metadata": {},
   "outputs": [],
   "source": [
    "predictions['rf']=rf_pred"
   ]
  },
  {
   "cell_type": "code",
   "execution_count": 245,
   "metadata": {},
   "outputs": [
    {
     "data": {
      "text/plain": [
       "Text(0.5, 0, '0 did not vote ,  Democrat 1 , Republican 2')"
      ]
     },
     "execution_count": 245,
     "metadata": {},
     "output_type": "execute_result"
    },
    {
     "data": {
      "image/png": "[encoded data removed]",
      "text/plain": [
       "<Figure size 432x288 with 1 Axes>"
      ]
     },
     "metadata": {
      "needs_background": "light"
     },
     "output_type": "display_data"
    }
   ],
   "source": [
    "predictions.rf.hist(bins=6,histtype='step')\n",
    "plt.title('prediction for next election')\n",
    "plt.ylabel('nubmer of votes')\n",
    "plt.xlabel('0 did not vote ,  Democrat 1 , Republican 2')"
   ]
  },
  {
   "cell_type": "code",
   "execution_count": 240,
   "metadata": {},
   "outputs": [
    {
     "data": {
      "text/plain": [
       "0    795\n",
       "1     64\n",
       "Name: rf, dtype: int64"
      ]
     },
     "execution_count": 240,
     "metadata": {},
     "output_type": "execute_result"
    }
   ],
   "source": [
    "predictions.rf.value_counts()"
   ]
  },
  {
   "cell_type": "code",
   "execution_count": 256,
   "metadata": {},
   "outputs": [
    {
     "name": "stdout",
     "output_type": "stream",
     "text": [
      "accuracy: 0.8218859138533178\n",
      "RMSE: 0.438274\n"
     ]
    }
   ],
   "source": [
    "bagging=bc(n_estimators=100,bootstrap=True)\n",
    "bagging.fit(X_train,y_train)\n",
    "b_pred=bagging.predict(X_test)\n",
    "accuracy = float(np.sum(b_pred==y_test))/y_test.shape[0]\n",
    "print(\"accuracy:\", accuracy)\n",
    "rmse = np.sqrt(mean_squared_error(y_test,b_pred))\n",
    "print(\"RMSE: %f\" % (rmse))"
   ]
  },
  {
   "cell_type": "code",
   "execution_count": null,
   "metadata": {},
   "outputs": [],
   "source": []
  }
 ],
 "metadata": {
  "kernelspec": {
   "display_name": "Python 3",
   "language": "python",
   "name": "python3"
  },
  "language_info": {
   "codemirror_mode": {
    "name": "ipython",
    "version": 3
   },
   "file_extension": ".py",
   "mimetype": "text/x-python",
   "name": "python",
   "nbconvert_exporter": "python",
   "pygments_lexer": "ipython3",
   "version": "3.8.5"
  }
 },
 "nbformat": 4,
 "nbformat_minor": 4
}
